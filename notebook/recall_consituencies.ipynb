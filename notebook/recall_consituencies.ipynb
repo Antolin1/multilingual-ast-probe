{
 "cells": [
  {
   "cell_type": "code",
   "execution_count": 13,
   "id": "92685a0f",
   "metadata": {},
   "outputs": [
    {
     "name": "stdout",
     "output_type": "stream",
     "text": [
      "0.7046\n",
      "0.6079\n"
     ]
    }
   ],
   "source": [
    "import pickle\n",
    "\n",
    "monolingual_file = 'mono.log'\n",
    "multilingual_file = 'multi.log'\n",
    "\n",
    "with open(monolingual_file, 'rb') as f:\n",
    "    data = pickle.load(f)\n",
    "    mono = data['recall_nonterminals']\n",
    "    print(data['test_f1'])\n",
    "\n",
    "with open(multilingual_file, 'rb') as f:\n",
    "    data = pickle.load(f)\n",
    "    multi = data['recall_nonterminals']\n",
    "    print(data['test_f1_python'])"
   ]
  },
  {
   "cell_type": "code",
   "execution_count": 14,
   "id": "35a62cfa",
   "metadata": {},
   "outputs": [
    {
     "data": {
      "text/plain": [
       "0"
      ]
     },
     "execution_count": 14,
     "metadata": {},
     "output_type": "execute_result"
    }
   ],
   "source": [
    "len(multi['<empty>--python'])"
   ]
  },
  {
   "cell_type": "code",
   "execution_count": 15,
   "id": "95f0e1c2",
   "metadata": {},
   "outputs": [
    {
     "data": {
      "text/plain": [
       "[]"
      ]
     },
     "execution_count": 15,
     "metadata": {},
     "output_type": "execute_result"
    }
   ],
   "source": [
    "mono['<empty>']"
   ]
  },
  {
   "cell_type": "code",
   "execution_count": 17,
   "id": "5551a368",
   "metadata": {},
   "outputs": [
    {
     "data": {
      "text/plain": [
       "dict_keys(['default_parameter', 'keyword_argument', 'subscript', 'as_pattern_target', 'block', 'as_pattern', 'expression_statement', 'module', 'attribute', 'function_definition', 'parameters', 'call', 'if_statement', 'else_clause', 'for_statement', 'with_statement', 'not_operator', 'argument_list', 'with_item', 'binary_operator', 'with_clause', 'assignment', 'pattern_list', 'augmented_assignment', 'continue_statement', 'comparison_operator', 'tuple', 'list_splat_pattern', 'try_statement', 'list', 'except_clause', 'raise_statement', 'return_statement', 'dictionary_splat_pattern', 'dictionary_splat', 'parenthesized_expression', 'if_clause', 'generator_expression', 'list_comprehension', 'for_in_clause', 'boolean_operator', 'lambda_parameters', 'unary_operator', 'lambda', 'pair', 'concatenated_string', 'dictionary', 'elif_clause', 'pass_statement', 'while_statement', 'break_statement', 'yield', 'slice', 'finally_clause', 'delete_statement', 'expression_list', 'typed_parameter', 'type', 'set_comprehension', 'dotted_name', 'import_from_statement', 'assert_statement', 'tuple_pattern', 'conditional_expression', 'typed_default_parameter', 'dictionary_comprehension', 'await', 'import_statement', 'aliased_import', 'list_splat', 'set', 'global_statement', 'decorator', 'decorated_definition', 'print_statement', 'import_prefix', 'relative_import', 'class_definition', 'keyword_separator', 'list_pattern', 'chevron', 'formal_parameters', 'local_variable_declaration', 'modifiers', 'class_body', 'type_arguments', 'method_declaration', 'class_declaration', 'generic_type', 'method_invocation', 'cast_expression', 'formal_parameter', 'binary_expression', 'variable_declarator', 'object_creation_expression', 'program', 'assignment_expression', 'unary_expression', 'switch_block', 'switch_block_statement_group', 'switch_expression', 'ternary_expression', 'switch_label', 'throws', 'resource_specification', 'throw_statement', 'catch_type', 'catch_clause', 'try_with_resources_statement', 'resource', 'catch_formal_parameter', 'integral_type', 'field_access', 'enhanced_for_statement', 'array_access', 'dimensions', 'array_type', 'type_parameters', 'type_parameter', 'marker_annotation', 'lambda_expression', 'spread_parameter', 'array_initializer', 'class_literal', 'update_expression', 'wildcard', 'scoped_type_identifier', 'annotation_argument_list', 'type_bound', 'annotation', 'method_reference', 'floating_point_type', 'element_value_pair', 'array_creation_expression', 'dimensions_expr', 'instanceof_expression', 'synchronized_statement', 'inferred_parameters', 'type_list', 'super_interfaces', 'do_statement', 'labeled_statement', 'field_declaration', 'scoped_identifier', 'element_value_array_initializer', 'constructor_declaration', 'explicit_constructor_invocation', 'superclass', 'constructor_body', 'method', 'if_modifier', 'nil', 'return', 'binary', 'optional_parameter', 'method_parameters', 'body_statement', 'parenthesized_statements', 'block_parameters', 'array', 'do_block', 'element_reference', 'block_body', 'unary', 'if', 'until_modifier', 'do', 'hash', 'operator_assignment', 'conditional', 'while', 'then', 'begin', 'next', 'block_argument', 'else', 'exceptions', 'operator', 'scope_resolution', 'rescue', 'break', 'splat_parameter', 'splat_argument', 'unless_modifier', 'chained_string', 'regex', 'keyword_parameter', 'elsif', 'bare_symbol', 'symbol_array', 'block_parameter', 'left_assignment_list', 'range', 'rescue_modifier', 'setter', 'exception_variable', 'unless', 'case', 'when', 'pattern', 'destructured_parameter', 'singleton_class', 'heredoc_body', 'ensure', 'retry', 'hash_splat_argument', 'hash_splat_parameter', 'right_assignment_list', 'until', 'singleton_method', 'in', 'for', 'string_array', 'bare_string', 'delimited_symbol', 'subshell', 'rest_assignment', 'while_modifier', 'destructured_left_assignment', 'member_expression', 'call_expression', 'arguments', 'statement_block', 'function_declaration', 'variable_declaration', 'function', 'object', 'new_expression', 'object_pattern', 'arrow_function', 'subscript_expression', 'lexical_declaration', 'await_expression', 'spread_element', 'switch_body', 'switch_case', 'switch_statement', 'switch_default', 'empty_statement', 'augmented_assignment_expression', 'template_string', 'template_substitution', 'pair_pattern', 'for_in_statement', 'generator_function', 'yield_expression', 'sequence_expression', 'rest_pattern', 'computed_property_name', 'method_definition', 'array_pattern', 'object_assignment_pattern', 'assignment_pattern', 'class_heritage', 'import', 'jsx_expression', 'jsx_self_closing_element', 'jsx_opening_element', 'jsx_attribute', 'jsx_element', 'jsx_closing_element', 'defer_statement', 'source_file', 'slice_expression', 'pointer_type', 'parameter_list', 'go_statement', 'index_expression', 'parameter_declaration', 'selector_expression', 'short_var_declaration', 'send_statement', 'channel_type', 'assignment_statement', 'keyed_element', 'composite_literal', 'literal_element', 'literal_value', 'interface_type', 'map_type', 'qualified_type', 'func_literal', 'type_assertion_expression', 'inc_statement', 'expression_case', 'slice_type', 'expression_switch_statement', 'variadic_argument', 'variadic_parameter_declaration', 'range_clause', 'struct_type', 'var_spec', 'var_declaration', 'field_declaration_list', 'for_clause', 'dec_statement', 'type_conversion_expression', 'type_switch_statement', 'type_case', 'receive_statement', 'communication_case', 'select_statement', 'function_type', 'default_case', 'parenthesized_type', 'method_spec', 'type_declaration', 'type_spec', 'const_spec', 'const_declaration', 'fallthrough_statement', 'goto_statement', 'compound_statement', 'init_declarator', 'function_declarator', 'declaration', 'field_expression', 'pointer_expression', 'pointer_declarator', 'storage_class_specifier', 'translation_unit', 'struct_specifier', 'type_descriptor', 'sized_type_specifier', 'type_qualifier', 'array_declarator', 'sizeof_expression', 'char_literal', 'case_statement', 'abstract_pointer_declarator', 'initializer_list', 'compound_literal_expression', 'parenthesized_declarator', 'initializer_pair', 'field_designator', 'comma_expression', 'variadic_parameter', 'enum_specifier', 'union_specifier', 'attribute_specifier', 'abstract_array_declarator', 'abstract_function_declarator', 'abstract_parenthesized_declarator', 'member_access_expression', 'generic_name', 'modifier', 'type_argument_list', 'argument', 'compilation_unit', 'parameter', 'invocation_expression', 'local_function_statement', 'implicit_type', 'assignment_operator', 'equals_value_clause', 'local_declaration_statement', 'array_rank_specifier', 'postfix_unary_expression', 'element_access_expression', 'bracketed_argument_list', 'qualified_name', 'prefix_unary_expression', 'identifier', 'boolean_literal', 'this_expression', 'catch_declaration', 'checked_expression', 'nullable_type', 'lock_statement', 'using_statement', 'as_expression', 'case_switch_label', 'default_switch_label', 'switch_section', 'for_each_statement', 'character_literal', 'is_pattern_expression', 'constant_pattern', 'default_expression', 'base_expression', 'initializer_expression', 'interpolated_string_expression', 'interpolation', 'type_of_expression', 'element_binding_expression', 'text_interpolation', 'member_call_expression', 'variable_name', 'simple_parameter', 'foreach_statement', 'unary_op_expression', 'function_call_expression', 'global_declaration', 'echo_statement', 'static_variable_declaration', 'unset_statement', 'function_static_declaration', 'reference_assignment_expression', 'reference_modifier', 'scoped_call_expression', 'encapsed_string', 'namespace_name', 'union_type', 'named_type', 'primitive_type', 'optional_type', 'namespace_name_as_prefix', 'array_element_initializer', 'class_constant_access_expression', 'relative_scope', 'scoped_property_access_expression', 'anonymous_function_use_clause', 'anonymous_function_creation_expression', 'include_expression', 'throw_expression', 'by_ref', 'name', 'list_literal', 'include_once_expression', 'default_statement', 'else_if_clause', 'clone_expression', 'colon_block', 'require_expression', 'require_once_expression', 'print_intrinsic', '<empty>--python', 'if_statement--python'])"
      ]
     },
     "execution_count": 17,
     "metadata": {},
     "output_type": "execute_result"
    }
   ],
   "source": [
    "multi.keys()"
   ]
  },
  {
   "cell_type": "code",
   "execution_count": 26,
   "id": "681934da",
   "metadata": {},
   "outputs": [],
   "source": [
    "multi = {k.split('--')[0]:v for k,v in multi.items() if '--python' in k}"
   ]
  },
  {
   "cell_type": "code",
   "execution_count": 28,
   "id": "f2d06baa",
   "metadata": {},
   "outputs": [],
   "source": [
    "import numpy as np\n",
    "\n",
    "diffs = {x: np.mean(multi[x]) - np.mean(mono[x]) for x in multi}"
   ]
  },
  {
   "cell_type": "code",
   "execution_count": 37,
   "id": "47a195ad",
   "metadata": {
    "scrolled": true
   },
   "outputs": [
    {
     "data": {
      "text/plain": [
       "0.6017757318983086"
      ]
     },
     "execution_count": 37,
     "metadata": {},
     "output_type": "execute_result"
    }
   ],
   "source": [
    "np.mean(list({k: np.mean(v) for k,v in mono.items()}.values()))"
   ]
  },
  {
   "cell_type": "code",
   "execution_count": 38,
   "id": "7f092175",
   "metadata": {},
   "outputs": [
    {
     "data": {
      "text/plain": [
       "0.44089519344208095"
      ]
     },
     "execution_count": 38,
     "metadata": {},
     "output_type": "execute_result"
    }
   ],
   "source": [
    "np.mean(list({k: np.mean(v) for k,v in multi.items()}.values()))"
   ]
  },
  {
   "cell_type": "code",
   "execution_count": 29,
   "id": "f8190979",
   "metadata": {},
   "outputs": [
    {
     "data": {
      "text/plain": [
       "{'if_statement': -0.06985919732971385,\n",
       " 'call': -0.14459713883847786,\n",
       " 'keyword_argument': -0.19636393743954128,\n",
       " 'subscript': -0.14744873831357086,\n",
       " 'block': -0.16066226621695573,\n",
       " 'not_operator': -0.06886246995387502,\n",
       " 'function_definition': -0.0073768939393940025,\n",
       " 'default_parameter': -0.08105892894792333,\n",
       " 'assignment': -0.10116039744657057,\n",
       " '<empty>': nan,\n",
       " 'for_statement': -0.07349986237269475,\n",
       " 'with_statement': -0.041245791245791225,\n",
       " 'as_pattern': -0.0952298850574711,\n",
       " 'attribute': -0.10939621727981663,\n",
       " 'parameters': -0.05675189393939384,\n",
       " 'continue_statement': -0.014833333333333365,\n",
       " 'binary_operator': -0.11519849337240223,\n",
       " 'argument_list': -0.08793801961720893,\n",
       " 'else_clause': -0.11887392442947997,\n",
       " 'pattern_list': -0.032855626326963816,\n",
       " 'augmented_assignment': -0.05219937008619846,\n",
       " 'as_pattern_target': -0.0386206896551724,\n",
       " 'tuple': -0.12231891966481012,\n",
       " 'comparison_operator': -0.08046588398688992,\n",
       " 'raise_statement': -0.12225758883613869,\n",
       " 'dictionary_splat_pattern': 0.009708737864077666,\n",
       " 'dictionary_splat': -0.04507445589919801,\n",
       " 'list_splat_pattern': -0.009554140127388533,\n",
       " 'return_statement': -0.06017928333879252,\n",
       " 'try_statement': -0.02016885553470918,\n",
       " 'except_clause': -0.1231319038336583,\n",
       " 'list': -0.0792672199357437,\n",
       " 'list_comprehension': -0.1338888888888889,\n",
       " 'for_in_clause': -0.20828023017804048,\n",
       " 'generator_expression': -0.12135922330097089,\n",
       " 'if_clause': -0.28146417445482863,\n",
       " 'parenthesized_expression': -0.09395003815833791,\n",
       " 'lambda': -0.1291114383897889,\n",
       " 'unary_operator': -0.013346883468834503,\n",
       " 'boolean_operator': -0.14132661422484427,\n",
       " 'lambda_parameters': 0.03100775193798455,\n",
       " 'dictionary': 0.011846633184523836,\n",
       " 'concatenated_string': -0.10291438979963574,\n",
       " 'pair': -0.12501610574689392,\n",
       " 'elif_clause': -0.07075059443480497,\n",
       " 'pass_statement': -0.03993055555555558,\n",
       " 'while_statement': -0.0859375,\n",
       " 'break_statement': -0.014285714285714346,\n",
       " 'yield': -0.02701325178389391,\n",
       " 'slice': -0.28838456639014826,\n",
       " 'finally_clause': -0.05882352941176472,\n",
       " 'delete_statement': -0.10734463276836159,\n",
       " 'expression_list': -0.0907216494845361,\n",
       " 'typed_parameter': -0.3849033816425121,\n",
       " 'type': -0.17300983436853012,\n",
       " 'set_comprehension': 0.0,\n",
       " 'dotted_name': -0.06367554858934166,\n",
       " 'import_from_statement': -0.15937149270482598,\n",
       " 'assert_statement': -0.1867986798679867,\n",
       " 'tuple_pattern': -0.1814516129032258,\n",
       " 'conditional_expression': -0.11416184971098267,\n",
       " 'typed_default_parameter': -0.23469387755102042,\n",
       " 'dictionary_comprehension': -0.1527777777777778,\n",
       " 'await': -0.05753968253968256,\n",
       " 'import_statement': -0.08914728682170547,\n",
       " 'aliased_import': -0.3896103896103895,\n",
       " 'list_splat': -0.08130081300813008,\n",
       " 'set': 0.0,\n",
       " 'global_statement': -0.021739130434782594,\n",
       " 'decorator': -0.15909090909090906,\n",
       " 'decorated_definition': 0.0,\n",
       " 'print_statement': -0.29166666666666663,\n",
       " 'import_prefix': 0.6,\n",
       " 'relative_import': 0.23636363636363633,\n",
       " 'expression_statement': -0.6552918484221701,\n",
       " 'with_item': -0.5180976430976431,\n",
       " 'class_definition': -0.10000000000000003,\n",
       " 'keyword_separator': -0.052631578947368474,\n",
       " 'list_pattern': 0.0,\n",
       " 'chevron': 0.0,\n",
       " 'with_clause': -0.5075757575757576,\n",
       " 'module': -0.988}"
      ]
     },
     "execution_count": 29,
     "metadata": {},
     "output_type": "execute_result"
    }
   ],
   "source": [
    "diffs"
   ]
  },
  {
   "cell_type": "code",
   "execution_count": 23,
   "id": "faeb5b51",
   "metadata": {},
   "outputs": [
    {
     "data": {
      "text/plain": [
       "0.07809890815671162"
      ]
     },
     "execution_count": 23,
     "metadata": {},
     "output_type": "execute_result"
    }
   ],
   "source": [
    "np.mean(multi['for_statement'])"
   ]
  },
  {
   "cell_type": "code",
   "execution_count": 24,
   "id": "adec33ea",
   "metadata": {},
   "outputs": [
    {
     "data": {
      "text/plain": [
       "0.15159877052940637"
      ]
     },
     "execution_count": 24,
     "metadata": {},
     "output_type": "execute_result"
    }
   ],
   "source": [
    "np.mean(mono['for_statement'])"
   ]
  },
  {
   "cell_type": "code",
   "execution_count": 22,
   "id": "fbe78d0f",
   "metadata": {},
   "outputs": [
    {
     "data": {
      "text/plain": [
       "dict_keys(['for_statement', 'expression_statement', 'else_clause', 'with_statement', 'continue_statement', 'if_statement', 'subscript', 'as_pattern_target', 'call', 'keyword_argument', 'parameters', 'as_pattern', 'binary_operator', 'block', 'default_parameter', 'argument_list', 'assignment', 'not_operator', 'function_definition', 'pattern_list', 'with_item', 'module', 'with_clause', 'attribute', 'augmented_assignment', 'tuple', 'comparison_operator', 'list', 'except_clause', 'dictionary_splat_pattern', 'dictionary_splat', 'return_statement', 'try_statement', 'raise_statement', 'list_splat_pattern', 'parenthesized_expression', 'for_in_clause', 'list_comprehension', 'generator_expression', 'if_clause', 'unary_operator', 'boolean_operator', 'lambda_parameters', 'lambda', 'concatenated_string', 'dictionary', 'pair', 'elif_clause', 'pass_statement', 'while_statement', 'yield', 'break_statement', 'slice', 'finally_clause', 'delete_statement', 'expression_list', 'type', 'typed_parameter', 'set_comprehension', 'dotted_name', 'import_from_statement', 'assert_statement', 'tuple_pattern', 'conditional_expression', 'typed_default_parameter', 'dictionary_comprehension', 'await', 'aliased_import', 'import_statement', 'set', 'list_splat', 'global_statement', 'decorated_definition', 'decorator', 'print_statement', 'import_prefix', 'relative_import', 'class_definition', 'keyword_separator', 'list_pattern', 'chevron', '<empty>'])"
      ]
     },
     "execution_count": 22,
     "metadata": {},
     "output_type": "execute_result"
    }
   ],
   "source": [
    "mono.keys()"
   ]
  }
 ],
 "metadata": {
  "kernelspec": {
   "display_name": "Python 3 (ipykernel)",
   "language": "python",
   "name": "python3"
  },
  "language_info": {
   "codemirror_mode": {
    "name": "ipython",
    "version": 3
   },
   "file_extension": ".py",
   "mimetype": "text/x-python",
   "name": "python",
   "nbconvert_exporter": "python",
   "pygments_lexer": "ipython3",
   "version": "3.8.15"
  }
 },
 "nbformat": 4,
 "nbformat_minor": 5
}
